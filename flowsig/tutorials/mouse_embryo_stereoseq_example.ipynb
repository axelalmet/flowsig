{
 "cells": [
  {
   "cell_type": "markdown",
   "id": "6b0d2e44",
   "metadata": {},
   "source": [
    "Here, we show how to apply FlowSig to a spatial Stereo-seq dataset of an E9.5 mouse embryo, as originally studied in [Chen et al. (2022)](https://doi.org/10.1016/j.cell.2022.04.003).\n",
    "The processed data and cell-cell communication inference, which was obtained using [COMMOT](https://commot.readthedocs.io/en/latest/tutorials.html),\n",
    "can be downloaded from the following Zenodo  [repository](https://zenodo.org/doi/10.5281/zenodo.10850397)."
   ]
  },
  {
   "cell_type": "code",
   "execution_count": null,
   "id": "57d00257",
   "metadata": {},
   "outputs": [],
   "source": [
    "import scanpy as sc\n",
    "import pandas as pd\n",
    "import flowsig as fs"
   ]
  },
  {
   "cell_type": "markdown",
   "id": "e29e4888-4699-4dee-9389-40fa79bcb1f1",
   "metadata": {},
   "source": [
    "Load in the data, which has been subsetted for spatially variable genes, as determined by the global Moran's I. In this case, we only retain genes where $I > 0.1$."
   ]
  },
  {
   "cell_type": "code",
   "execution_count": null,
   "id": "4878ee0a-2276-42c0-b257-4ececd610866",
   "metadata": {},
   "outputs": [],
   "source": [
    "adata = sc.read('data/chen22_svg_E9.5.h5ad')"
   ]
  },
  {
   "cell_type": "markdown",
   "id": "b17ef157-d367-407c-82b1-8b11fbe41b05",
   "metadata": {},
   "source": [
    "We construct 20 gene expression modules from the unnormalized spot counts using [NSF](https://www.nature.com/articles/s41592-022-01687-w)."
   ]
  },
  {
   "cell_type": "code",
   "execution_count": null,
   "id": "efe18728-2de6-4358-8da6-5af05888f27c",
   "metadata": {},
   "outputs": [],
   "source": [
    "fs.construct_gems_using_nsf(adata,\n",
    "                            n_gems = 20,\n",
    "                            layer_key = 'count',\n",
    "                            length_scale = 5.0)\n",
    "\n",
    "commot_output_key = 'commot-cellchat'"
   ]
  },
  {
   "cell_type": "markdown",
   "id": "57ce6e0c-bf9c-4e8f-bd57-105f57c46eb3",
   "metadata": {},
   "source": [
    "We first construct the potential cellular flows from the COMMOT output, which has been run previously."
   ]
  },
  {
   "cell_type": "code",
   "execution_count": null,
   "id": "6ab366eb-abc1-47c3-8e36-09873caca7b2",
   "metadata": {},
   "outputs": [],
   "source": [
    "fs.construct_flows_from_commot(adata,\n",
    "                                commot_output_key,\n",
    "                                gem_expr_key = 'X_gem',\n",
    "                                scale_gem_expr = True,\n",
    "                                flowsig_network_key = 'flowsig_network',\n",
    "                                flowsig_expr_key = 'X_flow')"
   ]
  },
  {
   "cell_type": "markdown",
   "id": "c0e0cf5f-2b7c-4bec-b363-9f84ed90792c",
   "metadata": {},
   "source": [
    "Then we subset for \"spatially flowing\" variables"
   ]
  },
  {
   "cell_type": "code",
   "execution_count": null,
   "id": "7fc81d1d-b608-4a51-b7c0-a4eafe7ea214",
   "metadata": {},
   "outputs": [],
   "source": [
    "fs.determine_informative_variables(adata,  \n",
    "                                    flowsig_expr_key = 'X_flow',\n",
    "                                    flowsig_network_key = 'flowsig_network',\n",
    "                                    spatial = True,\n",
    "                                    moran_threshold = 0.15,\n",
    "                                    coord_type = 'grid',\n",
    "                                    n_neighbours = 8)"
   ]
  },
  {
   "cell_type": "markdown",
   "id": "c7a5434e-a0c5-414a-ab01-38a3bc94b40f",
   "metadata": {},
   "source": [
    "For spatial data, we need to construct spatial blocks that are used for block bootstrapping, to preserve the spatial correlation of the gene expression data. The idea is that by sampling within these spatial blocks, we will better preserve these spatial correlation structures during bootstrapping. We construct the blocks using simple K-Means clustering over the spatial locations."
   ]
  },
  {
   "cell_type": "code",
   "execution_count": null,
   "id": "51d34928-1a06-451e-b075-3356a810aa86",
   "metadata": {},
   "outputs": [],
   "source": [
    "fs.construct_spatial_blocks(adata,\n",
    "                             n_blocks=20,\n",
    "                             use_graph=False,\n",
    "                             spatial_block_key = \"spatial_block\",\n",
    "                             spatial_key = \"spatial\")"
   ]
  },
  {
   "cell_type": "markdown",
   "id": "d2e780f2-b905-4d21-9b94-d4f749be326a",
   "metadata": {},
   "source": [
    "Now we are ready to learn the network\n"
   ]
  },
  {
   "cell_type": "code",
   "execution_count": null,
   "id": "95d53925-0d75-4634-b2f6-34ca6328cca2",
   "metadata": {},
   "outputs": [],
   "source": [
    "fs.learn_intercellular_flows(adata,\n",
    "                        flowsig_key = 'flowsig_network',\n",
    "                        flow_expr_key = 'X_flow',\n",
    "                        use_spatial = True,\n",
    "                        block_key = 'spatial_block',\n",
    "                        n_jobs = 1,\n",
    "                        n_bootstraps = 10)"
   ]
  },
  {
   "cell_type": "markdown",
   "id": "6f7cb462-f6b5-4a5c-a51d-24e7af77bbfd",
   "metadata": {},
   "source": [
    "Now we do post-learning validation to reorient undirected edges from the learnt CPDAG so that they flow from inflow to GEM to outflow. After that, we remove low-confidence edges."
   ]
  },
  {
   "cell_type": "code",
   "execution_count": null,
   "id": "b8136488-4819-4009-afac-c2d1a1a19636",
   "metadata": {},
   "outputs": [],
   "source": [
    "# This part is key for reducing false positives\n",
    "fs.apply_biological_flow(adata,\n",
    "                        flowsig_network_key = 'flowsig_network',\n",
    "                        adjacency_key = 'adjacency',\n",
    "                        validated_adjacency_key = 'adjacency_validated')\n",
    "\n",
    "edge_threshold = 0.7\n",
    "\n",
    "fs.filter_low_confidence_edges(adata,\n",
    "                                edge_threshold = edge_threshold,\n",
    "                                flowsig_network_key = 'flowsig_network',\n",
    "                                adjacency_key = 'adjacency',\n",
    "                                filtered_adjacency_key = 'adjacency_filtered')\n",
    "\n",
    "adata.write('data/chen22_svg_E9.5.h5ad', compression='gzip')"
   ]
  }
 ],
 "metadata": {
  "kernelspec": {
   "display_name": "Python 3 (ipykernel)",
   "language": "python",
   "name": "python3"
  },
  "language_info": {
   "codemirror_mode": {
    "name": "ipython",
    "version": 3
   },
   "file_extension": ".py",
   "mimetype": "text/x-python",
   "name": "python",
   "nbconvert_exporter": "python",
   "pygments_lexer": "ipython3",
   "version": "3.8.16"
  }
 },
 "nbformat": 4,
 "nbformat_minor": 5
}
