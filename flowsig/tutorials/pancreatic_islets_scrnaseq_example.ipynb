{
 "cells": [
  {
   "cell_type": "markdown",
   "id": "f1b8796f-f213-4022-b010-a9aaf8c9d845",
   "metadata": {},
   "source": [
    "Here, we show how to apply FlowSig to an scRNA-seq dataset of wildtype\n",
    "and stimulated human pancreatic islets, as originally studied in [Burkhardt et al. (2021)](https://www.nature.com/articles/s41587-020-00803-5)."
   ]
  },
  {
   "cell_type": "code",
   "execution_count": null,
   "id": "b67032be-a6c9-45e3-a6f2-d6f51c8ed92e",
   "metadata": {},
   "outputs": [],
   "source": [
    "import scanpy as sc\n",
    "import pandas as pd\n",
    "import flowsig as fs"
   ]
  },
  {
   "cell_type": "markdown",
   "id": "367dffee-3d13-4d0f-bf03-f3d4918ea4c7",
   "metadata": {},
   "source": [
    "Load the data and set the observation key that we will use to split the data into control (observational) and perturbed (interventional data). "
   ]
  },
  {
   "cell_type": "code",
   "execution_count": null,
   "id": "c2498c9d-3faf-471b-afea-c3114812e485",
   "metadata": {},
   "outputs": [],
   "source": [
    "adata = sc.read('data/burkhardt21_merged.h5ad')\n",
    "condition_key = 'Condition'"
   ]
  },
  {
   "cell_type": "markdown",
   "id": "98370748-a225-42f9-913e-0ab1424435cd",
   "metadata": {},
   "source": [
    "Load the cell-cell communication output from [CellChat](https://www.nature.com/articles/s41467-021-21246-9), which has been run for each condition."
   ]
  },
  {
   "cell_type": "code",
   "execution_count": null,
   "id": "f829f49a-574a-46d1-a388-36169ab2fff7",
   "metadata": {},
   "outputs": [],
   "source": [
    "cellchat_Ctrl = pd.read('data/burkhardt21_leiden_communications_Ctrl.csv')\n",
    "cellchat_IFNg = pd.read('data/burkhardt21_leiden_communications_IFNg.csv')\n",
    "\n",
    "cellchat_output_key = 'cellchat_output'\n",
    "# Make sure your keys for these align with their condition labels\n",
    "adata.uns[cellchat_output_key] = {'Ctrl': cellchat_Ctrl,\n",
    "                                  'IFNg': cellchat_IFNg}"
   ]
  },
  {
   "cell_type": "markdown",
   "id": "54627bb0-2c48-410a-a051-9bc1cd97d36f",
   "metadata": {},
   "source": [
    "We construct 10 gene expression modules from the unnormalized gene expression counts using [pyLIGER](https://academic.oup.com/bioinformatics/article/38/10/2946/6561542), which uses iNMF to construct GEMs that account for shared and specific expression across the control and perturbed conditions."
   ]
  },
  {
   "cell_type": "code",
   "execution_count": null,
   "id": "8bb9ffaa-0508-4a90-88e0-3d5262fa7bf4",
   "metadata": {},
   "outputs": [],
   "source": [
    "# We construct 10 gene expression modules using the raw cell count.\n",
    "fs.pp.construct_gems_using_pyliger(adata,\n",
    "                                n_gems = 10,\n",
    "                                layer_key = 'counts',\n",
    "                                condition_key = condition_key)"
   ]
  },
  {
   "cell_type": "markdown",
   "id": "d4204bf7-ae31-4962-b8d1-74b2448c9265",
   "metadata": {},
   "source": [
    "We first construct the potential cellular flows from the cellchat output, i.e., separate the inflows from the outflows."
   ]
  },
  {
   "cell_type": "code",
   "execution_count": null,
   "id": "bb3381de-19c5-4fc9-be80-1dde06c1fcf7",
   "metadata": {},
   "outputs": [],
   "source": [
    "fs.pp.construct_flow_expressions(adata,\n",
    "                                cellchat_output_key=cellchat_output_key,\n",
    "                                model_organism = 'human',\n",
    "                                spatial = False,\n",
    "                                method = 'cellchat'\n",
    "                                )"
   ]
  },
  {
   "cell_type": "markdown",
   "id": "e815fd02-b563-4f51-8e43-99b9ac9798fb",
   "metadata": {},
   "source": [
    "Then we subset for \"differentially flowing\" variables, using a Mann-Whitney U test on the inflow and outflow expressions, separately."
   ]
  },
  {
   "cell_type": "code",
   "execution_count": null,
   "id": "e3b91ba6-c969-4948-8a1d-90600e6e8a08",
   "metadata": {},
   "outputs": [],
   "source": [
    "fs.pp.determine_informative_variables(adata,  \n",
    "                                    spatial = False,\n",
    "                                    condition_key = 'Condition',\n",
    "                                    control = 'Ctrl',\n",
    "                                    qval_threshold = 0.05,\n",
    "                                    logfc_threshold = 0.5)"
   ]
  },
  {
   "cell_type": "markdown",
   "id": "a5db5871-72dd-40dc-ad36-6227f86d1521",
   "metadata": {},
   "source": [
    "Now we are ready to learn the network"
   ]
  },
  {
   "cell_type": "code",
   "execution_count": null,
   "id": "b63e2fa5-f5bd-4b04-89dd-e420f71d0308",
   "metadata": {},
   "outputs": [],
   "source": [
    "fs.tl.learn_intercellular_flows(adata,\n",
    "                        condition_key = condition_key,\n",
    "                        control = 'Ctrl', \n",
    "                        use_spatial = False,\n",
    "                        n_jobs = 1,\n",
    "                        n_bootstraps = 10)"
   ]
  },
  {
   "cell_type": "markdown",
   "id": "41c55d7d-3e68-4276-bc49-8857e6d3b3e9",
   "metadata": {},
   "source": [
    "Now we do post-learning validation to reorient the network and remove low-quality edges.\n"
   ]
  },
  {
   "cell_type": "code",
   "execution_count": null,
   "id": "93f575a0-3945-4ce4-8c6b-7d432fec46da",
   "metadata": {},
   "outputs": [],
   "source": [
    "# This part is key for reducing false positives\n",
    "fs.tl.apply_biological_flow(adata,\n",
    "                        flowsig_network_key = 'flowsig_network',\n",
    "                        adjacency_key = 'adjacency',\n",
    "                        validated_key = 'adjacency_validated')\n",
    "\n",
    "edge_threshold = 0.7\n",
    "\n",
    "fs.tl.filter_low_confidence_edges(adata,\n",
    "                                edge_threshold = edge_threshold,\n",
    "                                flowsig_network_key = 'flowsig_network',\n",
    "                                adjacency_key = 'adjacency',\n",
    "                                filtered_key = 'adjacency_filtered')\n",
    "\n",
    "adata.write('data/burkhardt21_merged.h5ad', compression='gzip')"
   ]
  }
 ],
 "metadata": {
  "kernelspec": {
   "display_name": "Python 3 (ipykernel)",
   "language": "python",
   "name": "python3"
  },
  "language_info": {
   "codemirror_mode": {
    "name": "ipython",
    "version": 3
   },
   "file_extension": ".py",
   "mimetype": "text/x-python",
   "name": "python",
   "nbconvert_exporter": "python",
   "pygments_lexer": "ipython3",
   "version": "3.8.16"
  }
 },
 "nbformat": 4,
 "nbformat_minor": 5
}
